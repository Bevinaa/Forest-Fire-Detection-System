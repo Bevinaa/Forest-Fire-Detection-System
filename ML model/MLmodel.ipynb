{
  "cells": [
    {
      "cell_type": "code",
      "execution_count": null,
      "metadata": {
        "colab": {
          "base_uri": "https://localhost:8080/"
        },
        "id": "OrlMDdy4GYvy",
        "outputId": "5c830834-2a5c-452e-a495-efdfde7bb457"
      },
      "outputs": [
        {
          "name": "stdout",
          "output_type": "stream",
          "text": [
            "Model Accuracy: 0.90\n",
            "Classification Report:\n",
            "               precision    recall  f1-score   support\n",
            "\n",
            "           0       0.90      1.00      0.95        36\n",
            "           1       0.00      0.00      0.00         4\n",
            "\n",
            "    accuracy                           0.90        40\n",
            "   macro avg       0.45      0.50      0.47        40\n",
            "weighted avg       0.81      0.90      0.85        40\n",
            "\n",
            "Model and scaler saved successfully.\n",
            "Sample Prediction for Temp: 42, Humidity: 18, Smoke: 808 -> FIRE DETECTED\n"
          ]
        },
        {
          "name": "stderr",
          "output_type": "stream",
          "text": [
            "/usr/local/lib/python3.11/dist-packages/xgboost/core.py:158: UserWarning: [13:31:27] WARNING: /workspace/src/learner.cc:740: \n",
            "Parameters: { \"use_label_encoder\" } are not used.\n",
            "\n",
            "  warnings.warn(smsg, UserWarning)\n",
            "/usr/local/lib/python3.11/dist-packages/sklearn/metrics/_classification.py:1565: UndefinedMetricWarning: Precision is ill-defined and being set to 0.0 in labels with no predicted samples. Use `zero_division` parameter to control this behavior.\n",
            "  _warn_prf(average, modifier, f\"{metric.capitalize()} is\", len(result))\n",
            "/usr/local/lib/python3.11/dist-packages/sklearn/metrics/_classification.py:1565: UndefinedMetricWarning: Precision is ill-defined and being set to 0.0 in labels with no predicted samples. Use `zero_division` parameter to control this behavior.\n",
            "  _warn_prf(average, modifier, f\"{metric.capitalize()} is\", len(result))\n",
            "/usr/local/lib/python3.11/dist-packages/sklearn/metrics/_classification.py:1565: UndefinedMetricWarning: Precision is ill-defined and being set to 0.0 in labels with no predicted samples. Use `zero_division` parameter to control this behavior.\n",
            "  _warn_prf(average, modifier, f\"{metric.capitalize()} is\", len(result))\n",
            "/usr/local/lib/python3.11/dist-packages/sklearn/utils/validation.py:2739: UserWarning: X does not have valid feature names, but StandardScaler was fitted with feature names\n",
            "  warnings.warn(\n"
          ]
        }
      ],
      "source": [
        "import pandas as pd\n",
        "import numpy as np\n",
        "import joblib\n",
        "from sklearn.model_selection import train_test_split\n",
        "from sklearn.preprocessing import StandardScaler\n",
        "from xgboost import XGBClassifier\n",
        "from sklearn.metrics import accuracy_score, classification_report\n",
        "\n",
        "df = pd.read_csv(\"synthetic_fire_dataset.csv\")\n",
        "\n",
        "df['Fire'] = df['Fire'].map({'Yes': 1, 'No': 0})\n",
        "\n",
        "X = df[['Temperature', 'Humidity', 'Smoke']]\n",
        "y = df['Fire']\n",
        "\n",
        "scaler = StandardScaler()\n",
        "X_scaled = scaler.fit_transform(X)\n",
        "\n",
        "X_train, X_test, y_train, y_test = train_test_split(X_scaled, y, test_size=0.2, random_state=42, stratify=y)\n",
        "model = XGBClassifier(n_estimators=300, learning_rate=0.05, max_depth=6, random_state=42, use_label_encoder=False, eval_metric='logloss')\n",
        "model.fit(X_train, y_train)\n",
        "\n",
        "y_pred = model.predict(X_test)\n",
        "\n",
        "accuracy = accuracy_score(y_test, y_pred)\n",
        "report = classification_report(y_test, y_pred)\n",
        "\n",
        "print(f\"Model Accuracy: {accuracy:.2f}\")\n",
        "print(\"Classification Report:\\n\", report)\n",
        "\n",
        "joblib.dump(model, \"forest_fire_model.pkl\")\n",
        "joblib.dump(scaler, \"scaler.pkl\")\n",
        "\n",
        "print(\"Model and scaler saved successfully.\")\n",
        "\n",
        "# prediction\n",
        "sample_data = np.array([[42, 18, 808]])  # Temperature, Humidity, Smoke\n",
        "sample_data_scaled = scaler.transform(sample_data)\n",
        "\n",
        "fire_prediction = model.predict(sample_data_scaled)[0]\n",
        "\n",
        "print(f\"Sample Prediction for Temp: 42, Humidity: 18, Smoke: 808 -> {'FIRE DETECTED' if fire_prediction == 1 else 'NO FIRE'}\")\n"
      ]
    },
    {
      "cell_type": "code",
      "execution_count": null,
      "metadata": {
        "colab": {
          "base_uri": "https://localhost:8080/"
        },
        "id": "6c09fsqzGjX4",
        "outputId": "2a3d4be8-b33b-4c59-f523-5484da82bf04"
      },
      "outputs": [
        {
          "name": "stdout",
          "output_type": "stream",
          "text": [
            "Fire Alarm\n",
            "1    44757\n",
            "0    17873\n",
            "Name: count, dtype: int64\n"
          ]
        }
      ],
      "source": [
        "print(df[\"Fire Alarm\"].value_counts())\n"
      ]
    }
  ],
  "metadata": {
    "colab": {
      "provenance": []
    },
    "kernelspec": {
      "display_name": "Python 3",
      "name": "python3"
    },
    "language_info": {
      "name": "python"
    }
  },
  "nbformat": 4,
  "nbformat_minor": 0
}
